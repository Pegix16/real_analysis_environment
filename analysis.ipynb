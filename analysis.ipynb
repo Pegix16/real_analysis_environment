{
 "cells": [
  {
   "cell_type": "markdown",
   "id": "94f2558e",
   "metadata": {},
   "source": [
    "\n",
    "# Credit Risk & Financial Analysis \n",
    "This notebook explores client credit behavior, payment patterns, and sales performance using data from IPEX.\n"
   ]
  },
  {
   "cell_type": "markdown",
   "id": "ac6fb80f",
   "metadata": {},
   "source": [
    "\n",
    "## 📊 Dataset Overview\n",
    "\n",
    "### clients.csv\n",
    "- Rows: 10\n",
    "- Columns: 6\n",
    "- Column Types:\n",
    "  - ClientID: int\n",
    "  - CompanyName: object\n",
    "  - Region: object\n",
    "  - StartDate: datetime\n",
    "  - CreditLimit: int\n",
    "  - AvgPaymentDelay: int\n",
    "- Missing Values: No\n",
    "- Connectable on: ClientID\n"
   ]
  },
  {
   "cell_type": "markdown",
   "id": "f2dc9462",
   "metadata": {},
   "source": [
    "## 🔹 KPI Calculations\n",
    "## 🔹 Revenue Analysis"
   ]
  },
  {
   "cell_type": "code",
   "execution_count": 127,
   "id": "b26480df",
   "metadata": {},
   "outputs": [
    {
     "data": {
      "text/html": [
       "<div>\n",
       "<style scoped>\n",
       "    .dataframe tbody tr th:only-of-type {\n",
       "        vertical-align: middle;\n",
       "    }\n",
       "\n",
       "    .dataframe tbody tr th {\n",
    